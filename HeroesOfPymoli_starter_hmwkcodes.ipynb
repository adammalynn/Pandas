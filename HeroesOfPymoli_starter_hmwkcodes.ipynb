{
 "cells": [
  {
   "cell_type": "markdown",
   "metadata": {},
   "source": [
    "### Heroes Of Pymoli Data Analysis\n",
    "* Of the 1163 active players, the vast majority are male (84%). There also exists, a smaller, but notable proportion of female players (14%).\n",
    "\n",
    "* Our peak age demographic falls between 20-24 (44.8%) with secondary groups falling between 15-19 (18.60%) and 25-29 (13.4%).  \n",
    "-----"
   ]
  },
  {
   "cell_type": "markdown",
   "metadata": {},
   "source": [
    "### Note\n",
    "* Instructions have been included for each segment. You do not have to follow them exactly, but they are included to help you think through the steps."
   ]
  },
  {
   "cell_type": "code",
   "execution_count": 2,
   "metadata": {},
   "outputs": [],
   "source": [
    "# Dependencies and Setup\n",
    "import pandas as pd\n",
    "import numpy as np\n",
    "\n",
    "# File to Load (Remember to Change These)\n",
    "file_to_load = r'Resources\\purchase_data.csv'\n",
    "\n",
    "# Read Purchasing File and store into Pandas data frame\n",
    "purchase_data = pd.read_csv(file_to_load)\n"
   ]
  },
  {
   "cell_type": "markdown",
   "metadata": {},
   "source": [
    "## Player Count"
   ]
  },
  {
   "cell_type": "markdown",
   "metadata": {},
   "source": [
    "* Display the total number of players\n"
   ]
  },
  {
   "cell_type": "code",
   "execution_count": 3,
   "metadata": {},
   "outputs": [
    {
     "data": {
      "text/html": [
       "<div>\n",
       "<style scoped>\n",
       "    .dataframe tbody tr th:only-of-type {\n",
       "        vertical-align: middle;\n",
       "    }\n",
       "\n",
       "    .dataframe tbody tr th {\n",
       "        vertical-align: top;\n",
       "    }\n",
       "\n",
       "    .dataframe thead th {\n",
       "        text-align: right;\n",
       "    }\n",
       "</style>\n",
       "<table border=\"1\" class=\"dataframe\">\n",
       "  <thead>\n",
       "    <tr style=\"text-align: right;\">\n",
       "      <th></th>\n",
       "      <th>Player Count</th>\n",
       "    </tr>\n",
       "  </thead>\n",
       "  <tbody>\n",
       "    <tr>\n",
       "      <th>0</th>\n",
       "      <td>780</td>\n",
       "    </tr>\n",
       "  </tbody>\n",
       "</table>\n",
       "</div>"
      ],
      "text/plain": [
       "   Player Count\n",
       "0           780"
      ]
     },
     "execution_count": 3,
     "metadata": {},
     "output_type": "execute_result"
    }
   ],
   "source": [
    "count=purchase_data[\"Purchase ID\"].count()\n",
    "summary_df = pd.DataFrame({\"Player Count\" : [count]})\n",
    "summary_df"
   ]
  },
  {
   "cell_type": "markdown",
   "metadata": {},
   "source": [
    "## Purchasing Analysis (Total)"
   ]
  },
  {
   "cell_type": "markdown",
   "metadata": {},
   "source": [
    "* Run basic calculations to obtain number of unique items, average price, etc.\n",
    "\n",
    "\n",
    "* Create a summary data frame to hold the results\n",
    "\n",
    "\n",
    "* Optional: give the displayed data cleaner formatting\n",
    "\n",
    "\n",
    "* Display the summary data frame\n"
   ]
  },
  {
   "cell_type": "code",
   "execution_count": 4,
   "metadata": {
    "scrolled": true
   },
   "outputs": [
    {
     "data": {
      "text/html": [
       "<div>\n",
       "<style scoped>\n",
       "    .dataframe tbody tr th:only-of-type {\n",
       "        vertical-align: middle;\n",
       "    }\n",
       "\n",
       "    .dataframe tbody tr th {\n",
       "        vertical-align: top;\n",
       "    }\n",
       "\n",
       "    .dataframe thead th {\n",
       "        text-align: right;\n",
       "    }\n",
       "</style>\n",
       "<table border=\"1\" class=\"dataframe\">\n",
       "  <thead>\n",
       "    <tr style=\"text-align: right;\">\n",
       "      <th></th>\n",
       "      <th>Number of Unique Items</th>\n",
       "      <th>Average Price</th>\n",
       "      <th>Number of Purchases</th>\n",
       "      <th>Total Revenue</th>\n",
       "    </tr>\n",
       "  </thead>\n",
       "  <tbody>\n",
       "    <tr>\n",
       "      <th>0</th>\n",
       "      <td>183</td>\n",
       "      <td>$3.05</td>\n",
       "      <td>780</td>\n",
       "      <td>$2379.77</td>\n",
       "    </tr>\n",
       "  </tbody>\n",
       "</table>\n",
       "</div>"
      ],
      "text/plain": [
       "   Number of Unique Items Average Price  Number of Purchases Total Revenue\n",
       "0                     183         $3.05                  780      $2379.77"
      ]
     },
     "execution_count": 4,
     "metadata": {},
     "output_type": "execute_result"
    }
   ],
   "source": [
    "# count of Item ID\n",
    "unique_count=len(purchase_data[\"Item ID\"].value_counts())\n",
    "\n",
    "average=round(purchase_data[\"Price\"].mean(),2)\n",
    "#\n",
    "count=purchase_data[\"Purchase ID\"].count()\n",
    "#\n",
    "sum=purchase_data[\"Price\"].sum()\n",
    "# Create a summary dataframe and format\n",
    "summary_df=pd.DataFrame({\"Number of Unique Items\" : [unique_count],\"Average Price\" : \"$\"+str(average),\"Number of Purchases\" : [count],\"Total Revenue\" : \"$\"+str(sum)})\n",
    "summary_df"
   ]
  },
  {
   "cell_type": "markdown",
   "metadata": {},
   "source": [
    "## Gender Demographics"
   ]
  },
  {
   "cell_type": "markdown",
   "metadata": {},
   "source": [
    "* Percentage and Count of Male Players\n",
    "\n",
    "\n",
    "* Percentage and Count of Female Players\n",
    "\n",
    "\n",
    "* Percentage and Count of Other / Non-Disclosed\n",
    "\n"
   ]
  },
  {
   "cell_type": "code",
   "execution_count": 5,
   "metadata": {},
   "outputs": [
    {
     "data": {
      "text/plain": [
       "576"
      ]
     },
     "execution_count": 5,
     "metadata": {},
     "output_type": "execute_result"
    }
   ],
   "source": [
    "# Create a data frame take only columns 0, 1, 2, 3, 4, 6 \n",
    "purchase_datas_pd = purchase_data.iloc[:,[ 0, 1, 2, 3, 4, 6 ]]\n",
    "\n",
    "# keep unique rows\n",
    "reduced_df=purchase_datas_pd.drop_duplicates([\"SN\"])\n",
    "# count age of reduced data\n",
    "count_new=reduced_df[\"Age\"].count()\n",
    "count_new\n"
   ]
  },
  {
   "cell_type": "code",
   "execution_count": 6,
   "metadata": {},
   "outputs": [
    {
     "data": {
      "text/html": [
       "<div>\n",
       "<style scoped>\n",
       "    .dataframe tbody tr th:only-of-type {\n",
       "        vertical-align: middle;\n",
       "    }\n",
       "\n",
       "    .dataframe tbody tr th {\n",
       "        vertical-align: top;\n",
       "    }\n",
       "\n",
       "    .dataframe thead th {\n",
       "        text-align: right;\n",
       "    }\n",
       "</style>\n",
       "<table border=\"1\" class=\"dataframe\">\n",
       "  <thead>\n",
       "    <tr style=\"text-align: right;\">\n",
       "      <th></th>\n",
       "      <th>Total Count</th>\n",
       "      <th>Percentage of Players</th>\n",
       "    </tr>\n",
       "  </thead>\n",
       "  <tbody>\n",
       "    <tr>\n",
       "      <th>Male</th>\n",
       "      <td>484</td>\n",
       "      <td>84.03</td>\n",
       "    </tr>\n",
       "    <tr>\n",
       "      <th>Female</th>\n",
       "      <td>81</td>\n",
       "      <td>14.06</td>\n",
       "    </tr>\n",
       "    <tr>\n",
       "      <th>Other / Non-Disclosed</th>\n",
       "      <td>11</td>\n",
       "      <td>1.91</td>\n",
       "    </tr>\n",
       "  </tbody>\n",
       "</table>\n",
       "</div>"
      ],
      "text/plain": [
       "                       Total Count  Percentage of Players\n",
       "Male                           484                  84.03\n",
       "Female                          81                  14.06\n",
       "Other / Non-Disclosed           11                   1.91"
      ]
     },
     "execution_count": 6,
     "metadata": {},
     "output_type": "execute_result"
    }
   ],
   "source": [
    "# count of each gender\n",
    "count=reduced_df[\"Gender\"].value_counts()\n",
    "\n",
    "# Using GroupBy to separate the data into fields according to \"Gender\" values\n",
    "grouped_gender = reduced_df.groupby([\"Gender\"])\n",
    "\n",
    "# percentage value per individual based on gender\n",
    "percentage = round((grouped_gender[\"SN\"].count()/count_new)*100, 2)\n",
    "\n",
    "# Creating a new DataFrame using both percentage and count\n",
    "gender_summary_table = pd.DataFrame({\"Total Count\": count,\n",
    "                                    \"Percentage of Players\": percentage})\n",
    "gender_summary_table.head()\n",
    "# Sorting from highest to lowest, ascending=False must be used\n",
    "percent_df = gender_summary_table.sort_values(\"Percentage of Players\", ascending=False)\n",
    "percent_df.head()"
   ]
  },
  {
   "cell_type": "markdown",
   "metadata": {},
   "source": [
    "\n",
    "## Purchasing Analysis (Gender)"
   ]
  },
  {
   "cell_type": "markdown",
   "metadata": {},
   "source": [
    "* Run basic calculations to obtain purchase count, avg. purchase price, avg. purchase total per person etc. by gender\n",
    "\n",
    "\n",
    "\n",
    "\n",
    "* Create a summary data frame to hold the results\n",
    "\n",
    "\n",
    "* Optional: give the displayed data cleaner formatting\n",
    "\n",
    "\n",
    "* Display the summary data frame"
   ]
  },
  {
   "cell_type": "code",
   "execution_count": 7,
   "metadata": {},
   "outputs": [
    {
     "data": {
      "text/html": [
       "<div>\n",
       "<style scoped>\n",
       "    .dataframe tbody tr th:only-of-type {\n",
       "        vertical-align: middle;\n",
       "    }\n",
       "\n",
       "    .dataframe tbody tr th {\n",
       "        vertical-align: top;\n",
       "    }\n",
       "\n",
       "    .dataframe thead th {\n",
       "        text-align: right;\n",
       "    }\n",
       "</style>\n",
       "<table border=\"1\" class=\"dataframe\">\n",
       "  <thead>\n",
       "    <tr style=\"text-align: right;\">\n",
       "      <th></th>\n",
       "      <th>Purchase Count</th>\n",
       "      <th>Average Purchase Price</th>\n",
       "      <th>Total Price</th>\n",
       "      <th>Avg Total Purchase per Person</th>\n",
       "    </tr>\n",
       "  </thead>\n",
       "  <tbody>\n",
       "    <tr>\n",
       "      <th>Female</th>\n",
       "      <td>113</td>\n",
       "      <td>$3.20</td>\n",
       "      <td>$361.94</td>\n",
       "      <td>$4.47</td>\n",
       "    </tr>\n",
       "    <tr>\n",
       "      <th>Male</th>\n",
       "      <td>652</td>\n",
       "      <td>$3.02</td>\n",
       "      <td>$1967.64</td>\n",
       "      <td>$4.07</td>\n",
       "    </tr>\n",
       "    <tr>\n",
       "      <th>Other / Non-Disclosed</th>\n",
       "      <td>15</td>\n",
       "      <td>$3.35</td>\n",
       "      <td>$50.19</td>\n",
       "      <td>$4.56</td>\n",
       "    </tr>\n",
       "  </tbody>\n",
       "</table>\n",
       "</div>"
      ],
      "text/plain": [
       "                       Purchase Count Average Purchase Price Total Price  \\\n",
       "Female                            113                  $3.20     $361.94   \n",
       "Male                              652                  $3.02    $1967.64   \n",
       "Other / Non-Disclosed              15                  $3.35      $50.19   \n",
       "\n",
       "                      Avg Total Purchase per Person  \n",
       "Female                                        $4.47  \n",
       "Male                                          $4.07  \n",
       "Other / Non-Disclosed                         $4.56  "
      ]
     },
     "execution_count": 7,
     "metadata": {},
     "output_type": "execute_result"
    }
   ],
   "source": [
    "# count\n",
    "purchase_count=purchase_data[\"Gender\"].value_counts()\n",
    "\n",
    "# Using GroupBy in order to separate the data into fields according to \"Gender\" values\n",
    "grouped_gender_price = purchase_data.groupby(['Gender'])\n",
    "average_price=round(grouped_gender_price[\"Price\"].mean(),2)\n",
    "total_price=round(grouped_gender_price[\"Price\"].sum(),2)\n",
    "avg_total_purchase=total_price/count\n",
    "\n",
    "# Creating a new DataFrame using both duration and count\n",
    "gender_summarys_table = pd.DataFrame({\"Purchase Count\": purchase_count,\n",
    "                                    \"Average Purchase Price\": average_price, \"Total Price\": total_price,\n",
    "                                    \"Avg Total Purchase per Person\" : avg_total_purchase})\n",
    "gender_summarys_table[\"Average Purchase Price\"] = gender_summarys_table[\"Average Purchase Price\"].map(\"${:.2f}\".format)\n",
    "gender_summarys_table[\"Total Price\"] = gender_summarys_table[\"Total Price\"].map(\"${:.2f}\".format)\n",
    "gender_summarys_table[\"Avg Total Purchase per Person\"] = gender_summarys_table[\"Avg Total Purchase per Person\"].map(\"${:.2f}\".format)\n",
    "gender_summarys_table.head()\n"
   ]
  },
  {
   "cell_type": "markdown",
   "metadata": {},
   "source": [
    "## Age Demographics"
   ]
  },
  {
   "cell_type": "markdown",
   "metadata": {},
   "source": [
    "* Establish bins for ages\n",
    "\n",
    "\n",
    "* Categorize the existing players using the age bins. Hint: use pd.cut()\n",
    "\n",
    "\n",
    "* Calculate the numbers and percentages by age group\n",
    "\n",
    "\n",
    "* Create a summary data frame to hold the results\n",
    "\n",
    "\n",
    "* Optional: round the percentage column to two decimal points\n",
    "\n",
    "\n",
    "* Display Age Demographics Table\n"
   ]
  },
  {
   "cell_type": "code",
   "execution_count": 8,
   "metadata": {},
   "outputs": [
    {
     "data": {
      "text/html": [
       "<div>\n",
       "<style scoped>\n",
       "    .dataframe tbody tr th:only-of-type {\n",
       "        vertical-align: middle;\n",
       "    }\n",
       "\n",
       "    .dataframe tbody tr th {\n",
       "        vertical-align: top;\n",
       "    }\n",
       "\n",
       "    .dataframe thead th {\n",
       "        text-align: right;\n",
       "    }\n",
       "</style>\n",
       "<table border=\"1\" class=\"dataframe\">\n",
       "  <thead>\n",
       "    <tr style=\"text-align: right;\">\n",
       "      <th></th>\n",
       "      <th>Total Count</th>\n",
       "      <th>Percentage of Players</th>\n",
       "    </tr>\n",
       "    <tr>\n",
       "      <th>Age Group</th>\n",
       "      <th></th>\n",
       "      <th></th>\n",
       "    </tr>\n",
       "  </thead>\n",
       "  <tbody>\n",
       "    <tr>\n",
       "      <th>&lt;10</th>\n",
       "      <td>17</td>\n",
       "      <td>2.95</td>\n",
       "    </tr>\n",
       "    <tr>\n",
       "      <th>10-14</th>\n",
       "      <td>22</td>\n",
       "      <td>3.82</td>\n",
       "    </tr>\n",
       "    <tr>\n",
       "      <th>15-19</th>\n",
       "      <td>107</td>\n",
       "      <td>18.58</td>\n",
       "    </tr>\n",
       "    <tr>\n",
       "      <th>20-24</th>\n",
       "      <td>258</td>\n",
       "      <td>44.79</td>\n",
       "    </tr>\n",
       "    <tr>\n",
       "      <th>25-29</th>\n",
       "      <td>77</td>\n",
       "      <td>13.37</td>\n",
       "    </tr>\n",
       "    <tr>\n",
       "      <th>30-34</th>\n",
       "      <td>52</td>\n",
       "      <td>9.03</td>\n",
       "    </tr>\n",
       "    <tr>\n",
       "      <th>35-39</th>\n",
       "      <td>31</td>\n",
       "      <td>5.38</td>\n",
       "    </tr>\n",
       "    <tr>\n",
       "      <th>40+</th>\n",
       "      <td>12</td>\n",
       "      <td>2.08</td>\n",
       "    </tr>\n",
       "  </tbody>\n",
       "</table>\n",
       "</div>"
      ],
      "text/plain": [
       "           Total Count  Percentage of Players\n",
       "Age Group                                    \n",
       "<10                 17                   2.95\n",
       "10-14               22                   3.82\n",
       "15-19              107                  18.58\n",
       "20-24              258                  44.79\n",
       "25-29               77                  13.37\n",
       "30-34               52                   9.03\n",
       "35-39               31                   5.38\n",
       "40+                 12                   2.08"
      ]
     },
     "execution_count": 8,
     "metadata": {},
     "output_type": "execute_result"
    }
   ],
   "source": [
    "# Bins to hold ages\n",
    "bins = [0,9,14,19,24,29,34,39,50]\n",
    "age_group=[\"<10\", \"10-14\", \"15-19\", \"20-24\", \"25-29\", \"30-34\", \"35-39\", \"40+\" ]\n",
    "\n",
    "# Create column to categorize players data into the age group\n",
    "purchase_data[\"Age Group\"] = pd.cut(purchase_data[\"Age\"],bins, labels=age_group)\n",
    "\n",
    "# Create data frame\n",
    "age_range = purchase_data.groupby(\"Age Group\")\n",
    "\n",
    "# unique data count\n",
    "ini_count = age_range[\"SN\"].nunique()\n",
    "    \n",
    "# percentage\n",
    "percentage_age = (ini_count/count_new)*100\n",
    "percentage_age\n",
    "\n",
    "# Create dataframe\n",
    "age_demographics = pd.DataFrame({\"Total Count\": ini_count, \"Percentage of Players\": percentage_age})\n",
    "age_demographics\n",
    "# Round to 2 decimal places\n",
    "age_demographics.round({'Percentage of Players': 2})\n"
   ]
  },
  {
   "cell_type": "markdown",
   "metadata": {},
   "source": [
    "## Purchasing Analysis (Age)"
   ]
  },
  {
   "cell_type": "markdown",
   "metadata": {},
   "source": [
    "* Bin the purchase_data data frame by age\n",
    "\n",
    "\n",
    "* Run basic calculations to obtain purchase count, avg. purchase price, avg. purchase total per person etc. in the table below\n",
    "\n",
    "\n",
    "* Create a summary data frame to hold the results\n",
    "\n",
    "\n",
    "* Optional: give the displayed data cleaner formatting\n",
    "\n",
    "\n",
    "* Display the summary data frame"
   ]
  },
  {
   "cell_type": "code",
   "execution_count": 9,
   "metadata": {},
   "outputs": [
    {
     "data": {
      "text/html": [
       "<style  type=\"text/css\" >\n",
       "</style>  \n",
       "<table id=\"T_a610d66e_0a2b_11e9_b5a0_34e12d5ea050\" > \n",
       "<thead>    <tr> \n",
       "        <th class=\"blank level0\" ></th> \n",
       "        <th class=\"col_heading level0 col0\" >Purchase Count</th> \n",
       "        <th class=\"col_heading level0 col1\" >Average Purchase Price</th> \n",
       "        <th class=\"col_heading level0 col2\" >Total Purchase Value</th> \n",
       "        <th class=\"col_heading level0 col3\" >Avg Total Purchase per Person</th> \n",
       "    </tr>    <tr> \n",
       "        <th class=\"index_name level0\" >Age Group</th> \n",
       "        <th class=\"blank\" ></th> \n",
       "        <th class=\"blank\" ></th> \n",
       "        <th class=\"blank\" ></th> \n",
       "        <th class=\"blank\" ></th> \n",
       "    </tr></thead> \n",
       "<tbody>    <tr> \n",
       "        <th id=\"T_a610d66e_0a2b_11e9_b5a0_34e12d5ea050level0_row0\" class=\"row_heading level0 row0\" ><10</th> \n",
       "        <td id=\"T_a610d66e_0a2b_11e9_b5a0_34e12d5ea050row0_col0\" class=\"data row0 col0\" >23</td> \n",
       "        <td id=\"T_a610d66e_0a2b_11e9_b5a0_34e12d5ea050row0_col1\" class=\"data row0 col1\" >$3.35</td> \n",
       "        <td id=\"T_a610d66e_0a2b_11e9_b5a0_34e12d5ea050row0_col2\" class=\"data row0 col2\" >$77.13</td> \n",
       "        <td id=\"T_a610d66e_0a2b_11e9_b5a0_34e12d5ea050row0_col3\" class=\"data row0 col3\" >$4.54</td> \n",
       "    </tr>    <tr> \n",
       "        <th id=\"T_a610d66e_0a2b_11e9_b5a0_34e12d5ea050level0_row1\" class=\"row_heading level0 row1\" >10-14</th> \n",
       "        <td id=\"T_a610d66e_0a2b_11e9_b5a0_34e12d5ea050row1_col0\" class=\"data row1 col0\" >28</td> \n",
       "        <td id=\"T_a610d66e_0a2b_11e9_b5a0_34e12d5ea050row1_col1\" class=\"data row1 col1\" >$2.96</td> \n",
       "        <td id=\"T_a610d66e_0a2b_11e9_b5a0_34e12d5ea050row1_col2\" class=\"data row1 col2\" >$82.78</td> \n",
       "        <td id=\"T_a610d66e_0a2b_11e9_b5a0_34e12d5ea050row1_col3\" class=\"data row1 col3\" >$3.76</td> \n",
       "    </tr>    <tr> \n",
       "        <th id=\"T_a610d66e_0a2b_11e9_b5a0_34e12d5ea050level0_row2\" class=\"row_heading level0 row2\" >15-19</th> \n",
       "        <td id=\"T_a610d66e_0a2b_11e9_b5a0_34e12d5ea050row2_col0\" class=\"data row2 col0\" >136</td> \n",
       "        <td id=\"T_a610d66e_0a2b_11e9_b5a0_34e12d5ea050row2_col1\" class=\"data row2 col1\" >$3.04</td> \n",
       "        <td id=\"T_a610d66e_0a2b_11e9_b5a0_34e12d5ea050row2_col2\" class=\"data row2 col2\" >$412.89</td> \n",
       "        <td id=\"T_a610d66e_0a2b_11e9_b5a0_34e12d5ea050row2_col3\" class=\"data row2 col3\" >$3.86</td> \n",
       "    </tr>    <tr> \n",
       "        <th id=\"T_a610d66e_0a2b_11e9_b5a0_34e12d5ea050level0_row3\" class=\"row_heading level0 row3\" >20-24</th> \n",
       "        <td id=\"T_a610d66e_0a2b_11e9_b5a0_34e12d5ea050row3_col0\" class=\"data row3 col0\" >365</td> \n",
       "        <td id=\"T_a610d66e_0a2b_11e9_b5a0_34e12d5ea050row3_col1\" class=\"data row3 col1\" >$3.05</td> \n",
       "        <td id=\"T_a610d66e_0a2b_11e9_b5a0_34e12d5ea050row3_col2\" class=\"data row3 col2\" >$1114.06</td> \n",
       "        <td id=\"T_a610d66e_0a2b_11e9_b5a0_34e12d5ea050row3_col3\" class=\"data row3 col3\" >$4.32</td> \n",
       "    </tr>    <tr> \n",
       "        <th id=\"T_a610d66e_0a2b_11e9_b5a0_34e12d5ea050level0_row4\" class=\"row_heading level0 row4\" >25-29</th> \n",
       "        <td id=\"T_a610d66e_0a2b_11e9_b5a0_34e12d5ea050row4_col0\" class=\"data row4 col0\" >101</td> \n",
       "        <td id=\"T_a610d66e_0a2b_11e9_b5a0_34e12d5ea050row4_col1\" class=\"data row4 col1\" >$2.90</td> \n",
       "        <td id=\"T_a610d66e_0a2b_11e9_b5a0_34e12d5ea050row4_col2\" class=\"data row4 col2\" >$293.00</td> \n",
       "        <td id=\"T_a610d66e_0a2b_11e9_b5a0_34e12d5ea050row4_col3\" class=\"data row4 col3\" >$3.81</td> \n",
       "    </tr>    <tr> \n",
       "        <th id=\"T_a610d66e_0a2b_11e9_b5a0_34e12d5ea050level0_row5\" class=\"row_heading level0 row5\" >30-34</th> \n",
       "        <td id=\"T_a610d66e_0a2b_11e9_b5a0_34e12d5ea050row5_col0\" class=\"data row5 col0\" >73</td> \n",
       "        <td id=\"T_a610d66e_0a2b_11e9_b5a0_34e12d5ea050row5_col1\" class=\"data row5 col1\" >$2.93</td> \n",
       "        <td id=\"T_a610d66e_0a2b_11e9_b5a0_34e12d5ea050row5_col2\" class=\"data row5 col2\" >$214.00</td> \n",
       "        <td id=\"T_a610d66e_0a2b_11e9_b5a0_34e12d5ea050row5_col3\" class=\"data row5 col3\" >$4.12</td> \n",
       "    </tr>    <tr> \n",
       "        <th id=\"T_a610d66e_0a2b_11e9_b5a0_34e12d5ea050level0_row6\" class=\"row_heading level0 row6\" >35-39</th> \n",
       "        <td id=\"T_a610d66e_0a2b_11e9_b5a0_34e12d5ea050row6_col0\" class=\"data row6 col0\" >41</td> \n",
       "        <td id=\"T_a610d66e_0a2b_11e9_b5a0_34e12d5ea050row6_col1\" class=\"data row6 col1\" >$3.60</td> \n",
       "        <td id=\"T_a610d66e_0a2b_11e9_b5a0_34e12d5ea050row6_col2\" class=\"data row6 col2\" >$147.67</td> \n",
       "        <td id=\"T_a610d66e_0a2b_11e9_b5a0_34e12d5ea050row6_col3\" class=\"data row6 col3\" >$4.76</td> \n",
       "    </tr>    <tr> \n",
       "        <th id=\"T_a610d66e_0a2b_11e9_b5a0_34e12d5ea050level0_row7\" class=\"row_heading level0 row7\" >40+</th> \n",
       "        <td id=\"T_a610d66e_0a2b_11e9_b5a0_34e12d5ea050row7_col0\" class=\"data row7 col0\" >13</td> \n",
       "        <td id=\"T_a610d66e_0a2b_11e9_b5a0_34e12d5ea050row7_col1\" class=\"data row7 col1\" >$2.94</td> \n",
       "        <td id=\"T_a610d66e_0a2b_11e9_b5a0_34e12d5ea050row7_col2\" class=\"data row7 col2\" >$38.24</td> \n",
       "        <td id=\"T_a610d66e_0a2b_11e9_b5a0_34e12d5ea050row7_col3\" class=\"data row7 col3\" >$3.19</td> \n",
       "    </tr></tbody> \n",
       "</table> "
      ],
      "text/plain": [
       "<pandas.io.formats.style.Styler at 0x261642dc6a0>"
      ]
     },
     "execution_count": 9,
     "metadata": {},
     "output_type": "execute_result"
    }
   ],
   "source": [
    "# count\n",
    "purchase_count = age_range[\"SN\"].count()\n",
    "\n",
    "# average price\n",
    "ave_purchase_price = age_range[\"Price\"].mean()\n",
    "\n",
    "# Total Purchase\n",
    "total_purchase = age_range[\"Price\"].sum()\n",
    "\n",
    "# Ave total individual purchase\n",
    "ave_purchase_per_person = (total_purchase/ini_count)\n",
    "\n",
    "# Create display data frame\n",
    "purchasing_analysis = pd.DataFrame({\"Purchase Count\": purchase_count, \"Average Purchase Price\": ave_purchase_price,\n",
    "                                    \"Total Purchase Value\": total_purchase, \"Avg Total Purchase per Person\": ave_purchase_per_person})\n",
    "purchasing_analysis\n",
    "purchasing_analysis.style.format({\"Average Purchase Price\": \"${:.2f}\", \"Total Purchase Value\": \"${:.2f}\", \"Avg Total Purchase per Person\": \"${:.2f}\"})\n"
   ]
  },
  {
   "cell_type": "markdown",
   "metadata": {},
   "source": [
    "## Top Spenders"
   ]
  },
  {
   "cell_type": "markdown",
   "metadata": {},
   "source": [
    "* Run basic calculations to obtain the results in the table below\n",
    "\n",
    "\n",
    "* Create a summary data frame to hold the results\n",
    "\n",
    "\n",
    "* Sort the total purchase value column in descending order\n",
    "\n",
    "\n",
    "* Optional: give the displayed data cleaner formatting\n",
    "\n",
    "\n",
    "* Display a preview of the summary data frame\n",
    "\n"
   ]
  },
  {
   "cell_type": "code",
   "execution_count": 10,
   "metadata": {},
   "outputs": [
    {
     "data": {
      "text/html": [
       "<style  type=\"text/css\" >\n",
       "</style>  \n",
       "<table id=\"T_a618d074_0a2b_11e9_aa11_34e12d5ea050\" > \n",
       "<thead>    <tr> \n",
       "        <th class=\"blank level0\" ></th> \n",
       "        <th class=\"col_heading level0 col0\" >Purchase Count</th> \n",
       "        <th class=\"col_heading level0 col1\" >Average Purchase Price</th> \n",
       "        <th class=\"col_heading level0 col2\" >Total Purchase Value</th> \n",
       "    </tr></thead> \n",
       "<tbody>    <tr> \n",
       "        <th id=\"T_a618d074_0a2b_11e9_aa11_34e12d5ea050level0_row0\" class=\"row_heading level0 row0\" >Lisosia93</th> \n",
       "        <td id=\"T_a618d074_0a2b_11e9_aa11_34e12d5ea050row0_col0\" class=\"data row0 col0\" >5</td> \n",
       "        <td id=\"T_a618d074_0a2b_11e9_aa11_34e12d5ea050row0_col1\" class=\"data row0 col1\" >$3.79</td> \n",
       "        <td id=\"T_a618d074_0a2b_11e9_aa11_34e12d5ea050row0_col2\" class=\"data row0 col2\" >$18.96</td> \n",
       "    </tr>    <tr> \n",
       "        <th id=\"T_a618d074_0a2b_11e9_aa11_34e12d5ea050level0_row1\" class=\"row_heading level0 row1\" >Idastidru52</th> \n",
       "        <td id=\"T_a618d074_0a2b_11e9_aa11_34e12d5ea050row1_col0\" class=\"data row1 col0\" >4</td> \n",
       "        <td id=\"T_a618d074_0a2b_11e9_aa11_34e12d5ea050row1_col1\" class=\"data row1 col1\" >$3.86</td> \n",
       "        <td id=\"T_a618d074_0a2b_11e9_aa11_34e12d5ea050row1_col2\" class=\"data row1 col2\" >$15.45</td> \n",
       "    </tr>    <tr> \n",
       "        <th id=\"T_a618d074_0a2b_11e9_aa11_34e12d5ea050level0_row2\" class=\"row_heading level0 row2\" >Chamjask73</th> \n",
       "        <td id=\"T_a618d074_0a2b_11e9_aa11_34e12d5ea050row2_col0\" class=\"data row2 col0\" >3</td> \n",
       "        <td id=\"T_a618d074_0a2b_11e9_aa11_34e12d5ea050row2_col1\" class=\"data row2 col1\" >$4.61</td> \n",
       "        <td id=\"T_a618d074_0a2b_11e9_aa11_34e12d5ea050row2_col2\" class=\"data row2 col2\" >$13.83</td> \n",
       "    </tr>    <tr> \n",
       "        <th id=\"T_a618d074_0a2b_11e9_aa11_34e12d5ea050level0_row3\" class=\"row_heading level0 row3\" >Iral74</th> \n",
       "        <td id=\"T_a618d074_0a2b_11e9_aa11_34e12d5ea050row3_col0\" class=\"data row3 col0\" >4</td> \n",
       "        <td id=\"T_a618d074_0a2b_11e9_aa11_34e12d5ea050row3_col1\" class=\"data row3 col1\" >$3.40</td> \n",
       "        <td id=\"T_a618d074_0a2b_11e9_aa11_34e12d5ea050row3_col2\" class=\"data row3 col2\" >$13.62</td> \n",
       "    </tr>    <tr> \n",
       "        <th id=\"T_a618d074_0a2b_11e9_aa11_34e12d5ea050level0_row4\" class=\"row_heading level0 row4\" >Iskadarya95</th> \n",
       "        <td id=\"T_a618d074_0a2b_11e9_aa11_34e12d5ea050row4_col0\" class=\"data row4 col0\" >3</td> \n",
       "        <td id=\"T_a618d074_0a2b_11e9_aa11_34e12d5ea050row4_col1\" class=\"data row4 col1\" >$4.37</td> \n",
       "        <td id=\"T_a618d074_0a2b_11e9_aa11_34e12d5ea050row4_col2\" class=\"data row4 col2\" >$13.10</td> \n",
       "    </tr></tbody> \n",
       "</table> "
      ],
      "text/plain": [
       "<pandas.io.formats.style.Styler at 0x26165182da0>"
      ]
     },
     "execution_count": 10,
     "metadata": {},
     "output_type": "execute_result"
    }
   ],
   "source": [
    "# count SN\n",
    "top_count = purchase_data[\"SN\"].value_counts()\n",
    "\n",
    "# group by SN\n",
    "top = purchase_data.groupby(\"SN\")\n",
    "# create results for new variables\n",
    "top_average = top[\"Price\"].mean()\n",
    "top_total = (top_count*top_average)\n",
    "\n",
    "# create dataframe to hold and display results\n",
    "top_spenders = pd.DataFrame({\"Purchase Count\": top_count, \"Average Purchase Price\": top_average, \n",
    "                             \"Total Purchase Value\": top_total})\n",
    "\n",
    "# sort by top 5 spenders and format\n",
    "top_df = top_spenders.sort_values(\"Total Purchase Value\", ascending=False).head(5)\n",
    "top_df \n",
    "top_df.style.format({\"Average Purchase Price\": \"${:.2f}\", \"Total Purchase Value\": \"${:.2f}\"})"
   ]
  },
  {
   "cell_type": "markdown",
   "metadata": {},
   "source": [
    "## Most Popular Items"
   ]
  },
  {
   "cell_type": "markdown",
   "metadata": {},
   "source": [
    "* Retrieve the Item ID, Item Name, and Item Price columns\n",
    "\n",
    "\n",
    "* Group by Item ID and Item Name. Perform calculations to obtain purchase count, item price, and total purchase value\n",
    "\n",
    "\n",
    "* Create a summary data frame to hold the results\n",
    "\n",
    "\n",
    "* Sort the purchase count column in descending order\n",
    "\n",
    "\n",
    "* Optional: give the displayed data cleaner formatting\n",
    "\n",
    "\n",
    "* Display a preview of the summary data frame\n",
    "\n"
   ]
  },
  {
   "cell_type": "code",
   "execution_count": 20,
   "metadata": {},
   "outputs": [
    {
     "data": {
      "text/html": [
       "<style  type=\"text/css\" >\n",
       "</style>  \n",
       "<table id=\"T_bbfb49ac_0a2c_11e9_8825_34e12d5ea050\" > \n",
       "<thead>    <tr> \n",
       "        <th class=\"blank level0\" ></th> \n",
       "        <th class=\"col_heading level0 col0\" >Item ID</th> \n",
       "        <th class=\"col_heading level0 col1\" >Item Name</th> \n",
       "        <th class=\"col_heading level0 col2\" >Purchase Count</th> \n",
       "        <th class=\"col_heading level0 col3\" >Item Price</th> \n",
       "        <th class=\"col_heading level0 col4\" >Total Purchase Value</th> \n",
       "    </tr></thead> \n",
       "<tbody>    <tr> \n",
       "        <th id=\"T_bbfb49ac_0a2c_11e9_8825_34e12d5ea050level0_row0\" class=\"row_heading level0 row0\" >0</th> \n",
       "        <td id=\"T_bbfb49ac_0a2c_11e9_8825_34e12d5ea050row0_col0\" class=\"data row0 col0\" >178</td> \n",
       "        <td id=\"T_bbfb49ac_0a2c_11e9_8825_34e12d5ea050row0_col1\" class=\"data row0 col1\" >Oathbreaker, Last Hope of the Breaking Storm</td> \n",
       "        <td id=\"T_bbfb49ac_0a2c_11e9_8825_34e12d5ea050row0_col2\" class=\"data row0 col2\" >12</td> \n",
       "        <td id=\"T_bbfb49ac_0a2c_11e9_8825_34e12d5ea050row0_col3\" class=\"data row0 col3\" >$4.23</td> \n",
       "        <td id=\"T_bbfb49ac_0a2c_11e9_8825_34e12d5ea050row0_col4\" class=\"data row0 col4\" >$50.76</td> \n",
       "    </tr>    <tr> \n",
       "        <th id=\"T_bbfb49ac_0a2c_11e9_8825_34e12d5ea050level0_row1\" class=\"row_heading level0 row1\" >1</th> \n",
       "        <td id=\"T_bbfb49ac_0a2c_11e9_8825_34e12d5ea050row1_col0\" class=\"data row1 col0\" >145</td> \n",
       "        <td id=\"T_bbfb49ac_0a2c_11e9_8825_34e12d5ea050row1_col1\" class=\"data row1 col1\" >Fiery Glass Crusader</td> \n",
       "        <td id=\"T_bbfb49ac_0a2c_11e9_8825_34e12d5ea050row1_col2\" class=\"data row1 col2\" >9</td> \n",
       "        <td id=\"T_bbfb49ac_0a2c_11e9_8825_34e12d5ea050row1_col3\" class=\"data row1 col3\" >$4.58</td> \n",
       "        <td id=\"T_bbfb49ac_0a2c_11e9_8825_34e12d5ea050row1_col4\" class=\"data row1 col4\" >$41.22</td> \n",
       "    </tr>    <tr> \n",
       "        <th id=\"T_bbfb49ac_0a2c_11e9_8825_34e12d5ea050level0_row2\" class=\"row_heading level0 row2\" >2</th> \n",
       "        <td id=\"T_bbfb49ac_0a2c_11e9_8825_34e12d5ea050row2_col0\" class=\"data row2 col0\" >108</td> \n",
       "        <td id=\"T_bbfb49ac_0a2c_11e9_8825_34e12d5ea050row2_col1\" class=\"data row2 col1\" >Extraction, Quickblade Of Trembling Hands</td> \n",
       "        <td id=\"T_bbfb49ac_0a2c_11e9_8825_34e12d5ea050row2_col2\" class=\"data row2 col2\" >9</td> \n",
       "        <td id=\"T_bbfb49ac_0a2c_11e9_8825_34e12d5ea050row2_col3\" class=\"data row2 col3\" >$3.53</td> \n",
       "        <td id=\"T_bbfb49ac_0a2c_11e9_8825_34e12d5ea050row2_col4\" class=\"data row2 col4\" >$31.77</td> \n",
       "    </tr>    <tr> \n",
       "        <th id=\"T_bbfb49ac_0a2c_11e9_8825_34e12d5ea050level0_row3\" class=\"row_heading level0 row3\" >3</th> \n",
       "        <td id=\"T_bbfb49ac_0a2c_11e9_8825_34e12d5ea050row3_col0\" class=\"data row3 col0\" >82</td> \n",
       "        <td id=\"T_bbfb49ac_0a2c_11e9_8825_34e12d5ea050row3_col1\" class=\"data row3 col1\" >Nirvana</td> \n",
       "        <td id=\"T_bbfb49ac_0a2c_11e9_8825_34e12d5ea050row3_col2\" class=\"data row3 col2\" >9</td> \n",
       "        <td id=\"T_bbfb49ac_0a2c_11e9_8825_34e12d5ea050row3_col3\" class=\"data row3 col3\" >$4.90</td> \n",
       "        <td id=\"T_bbfb49ac_0a2c_11e9_8825_34e12d5ea050row3_col4\" class=\"data row3 col4\" >$44.10</td> \n",
       "    </tr>    <tr> \n",
       "        <th id=\"T_bbfb49ac_0a2c_11e9_8825_34e12d5ea050level0_row4\" class=\"row_heading level0 row4\" >4</th> \n",
       "        <td id=\"T_bbfb49ac_0a2c_11e9_8825_34e12d5ea050row4_col0\" class=\"data row4 col0\" >19</td> \n",
       "        <td id=\"T_bbfb49ac_0a2c_11e9_8825_34e12d5ea050row4_col1\" class=\"data row4 col1\" >Pursuit, Cudgel of Necromancy</td> \n",
       "        <td id=\"T_bbfb49ac_0a2c_11e9_8825_34e12d5ea050row4_col2\" class=\"data row4 col2\" >8</td> \n",
       "        <td id=\"T_bbfb49ac_0a2c_11e9_8825_34e12d5ea050row4_col3\" class=\"data row4 col3\" >$1.02</td> \n",
       "        <td id=\"T_bbfb49ac_0a2c_11e9_8825_34e12d5ea050row4_col4\" class=\"data row4 col4\" >$8.16</td> \n",
       "    </tr></tbody> \n",
       "</table> "
      ],
      "text/plain": [
       "<pandas.io.formats.style.Styler at 0x261652061d0>"
      ]
     },
     "execution_count": 20,
     "metadata": {},
     "output_type": "execute_result"
    }
   ],
   "source": [
    "\n",
    "# grouping and performing calculations\n",
    "popular = purchase_data.groupby([\"Item ID\", \"Item Name\"]).agg({\"Purchase ID\":[\"count\"], \"Price\":[\"mean\",\"sum\"]})\n",
    "\n",
    "# naming the columns of the calculated values\n",
    "popular.columns = [\"Purchase Count\", \"Item Price\", \"Total Purchase Value\"]\n",
    "# sorting total purchase value in descending order\n",
    "popular.sort_values(\"Purchase Count\", ascending=False).head(5).reset_index().style.format({\"Item Price\": \"${:.2f}\", \"Total Purchase Value\": \"${:.2f}\"})\n",
    "\n"
   ]
  },
  {
   "cell_type": "markdown",
   "metadata": {},
   "source": [
    "# Most Profitable Items"
   ]
  },
  {
   "cell_type": "markdown",
   "metadata": {},
   "source": [
    "* Sort the above table by total purchase value in descending order\n",
    "\n",
    "\n",
    "* Optional: give the displayed data cleaner formatting\n",
    "\n",
    "\n",
    "* Display a preview of the data frame\n",
    "\n"
   ]
  },
  {
   "cell_type": "code",
   "execution_count": null,
   "metadata": {},
   "outputs": [],
   "source": [
    "popular.columns = [\"Purchase Count\", \"Item Price\", \"Total Purchase Value\"]\n",
    "\n",
    "# sorting total purchase value in descending order and formatting\n",
    "popular.sort_values(\"Total Purchase Value\", ascending=False).head(5).reset_index().style.format({\"Item Price\": \"${:.2f}\", \"Total Purchase Value\": \"${:.2f}\"})\n",
    "\n",
    "\n"
   ]
  },
  {
   "cell_type": "code",
   "execution_count": null,
   "metadata": {},
   "outputs": [],
   "source": []
  }
 ],
 "metadata": {
  "anaconda-cloud": {},
  "kernel_info": {
   "name": "python3"
  },
  "kernelspec": {
   "display_name": "Python 3",
   "language": "python",
   "name": "python3"
  },
  "language_info": {
   "codemirror_mode": {
    "name": "ipython",
    "version": 3
   },
   "file_extension": ".py",
   "mimetype": "text/x-python",
   "name": "python",
   "nbconvert_exporter": "python",
   "pygments_lexer": "ipython3",
   "version": "3.7.0"
  },
  "nteract": {
   "version": "0.2.0"
  }
 },
 "nbformat": 4,
 "nbformat_minor": 2
}
